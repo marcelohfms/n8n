{
  "nbformat": 4,
  "nbformat_minor": 0,
  "metadata": {
    "colab": {
      "provenance": [],
      "include_colab_link": true
    },
    "kernelspec": {
      "name": "python3",
      "display_name": "Python 3"
    },
    "language_info": {
      "name": "python"
    }
  },
  "cells": [
    {
      "cell_type": "markdown",
      "metadata": {
        "id": "view-in-github",
        "colab_type": "text"
      },
      "source": [
        "<a href=\"https://colab.research.google.com/github/marcelohfms/n8n/blob/main/Graficos_Relatorio_Performance.ipynb\" target=\"_parent\"><img src=\"https://colab.research.google.com/assets/colab-badge.svg\" alt=\"Open In Colab\"/></a>"
      ]
    },
    {
      "cell_type": "code",
      "source": [
        "# prompt: Now transform \"worksheet\" to dataFrame\n",
        "\n",
        "import pandas as pd\n",
        "from datetime import datetime, timedelta\n",
        "import os\n",
        "\n",
        "# Convert the list of lists to a Pandas DataFrame\n",
        "df = pd.read_excel('relatorio_n8n.xlsx', sheet_name = 'Relatorio_em_Etapas')\n",
        "operacao = pd.read_excel('relatorio_n8n.xlsx', sheet_name = 'Dados Resumo')\n",
        "operacao = operacao[operacao['Informação'] == 'Operação']['Valor'].iloc[0]\n",
        "\n",
        "# Now you have the worksheet data in a Pandas DataFrame called 'df'\n",
        "# You can work with it like any other DataFrame\n",
        "df.head()\n",
        "\n",
        "# Get today's date in UTC-3\n",
        "today_utc_minus_3 = datetime.utcnow() - timedelta(hours=3)\n",
        "today = today_utc_minus_3.date()"
      ],
      "metadata": {
        "id": "eMfhwPGiYgmp"
      },
      "execution_count": null,
      "outputs": []
    },
    {
      "cell_type": "code",
      "source": [
        "# prompt: Create a rename mapping for the columns in [Gap MKT', 'Gap PV', 'Gap Vendas', 'Gap MKT_up', 'Gap PV_up', 'Gap Vendas_up']\n",
        "\n",
        "rename_mapping = {\n",
        "    'Gap MKT': 'Gap MKT',\n",
        "    'Gap PV': 'Gap Pre-Vendas',\n",
        "    'Gap Vendas': 'Gap Vendas',\n",
        "    'Gap MKT_up': 'MKT acima',\n",
        "    'Gap PV_up': 'Pre-Vendas acima',\n",
        "    'Gap Vendas_up': 'Vendas acima'\n",
        "}\n",
        "\n",
        "df = df.rename(columns=rename_mapping)"
      ],
      "metadata": {
        "id": "Cmb_Hig6Oadm"
      },
      "execution_count": null,
      "outputs": []
    },
    {
      "cell_type": "code",
      "source": [
        "gaps = [df['Potencial de Receita'].sum()]\n",
        "labels = ['Potencial de Receita']\n",
        "for col in ['Gap MKT', 'Gap Pre-Vendas', 'Gap Vendas', 'MKT acima', 'Pre-Vendas acima', 'Vendas acima']:\n",
        "  gaps.append(df[col].sum())\n",
        "  labels.append(col)\n",
        "gaps.append(df['Potencial de Receita Realizado'].sum())\n",
        "labels.append('Receita Realizada')"
      ],
      "metadata": {
        "id": "_wQTqpEHhQAQ"
      },
      "execution_count": null,
      "outputs": []
    },
    {
      "cell_type": "code",
      "source": [
        "# prompt: generate a waterfall graph from gaps and labels\n",
        "\n",
        "import matplotlib.pyplot as plt\n",
        "\n",
        "# Assuming gaps and labels are defined as in the previous code\n",
        "\n",
        "# Calculate the cumulative sum of the gaps\n",
        "cumulative_gaps = [sum(gaps[:i+1]) for i in range(len(gaps))]\n",
        "\n",
        "def format_label(value):\n",
        "  if abs(value) > 1_000_000:\n",
        "    return f'{value / 1_000_000:.3f}M'\n",
        "  elif abs(value) > 1_000:\n",
        "    return f'{value / 1_000:.1f}k'\n",
        "  else:\n",
        "    return value\n",
        "\n",
        "def waterfall_chart(iteration):\n",
        "    # Create the waterfall chart\n",
        "    fig, ax = plt.subplots(figsize=(14, 8))\n",
        "\n",
        "    for i, (label, gap) in enumerate(zip(labels, gaps)):\n",
        "        # Default color rules\n",
        "        if i in [0, len(gaps) - 1]:\n",
        "            color = 'grey'\n",
        "        elif i <= 3:\n",
        "            if i == iteration:\n",
        "                color = 'red'\n",
        "            elif iteration <= 3:\n",
        "                color = 'lightpink'\n",
        "            else:\n",
        "                color = 'lightcoral'\n",
        "        else:\n",
        "            if i == iteration:\n",
        "                color = 'midnightblue'\n",
        "            else:\n",
        "                color = 'skyblue'\n",
        "\n",
        "        # Bottom position for bars\n",
        "        bottom = 0 if i == len(gaps) - 1 else cumulative_gaps[i] - gap\n",
        "\n",
        "        # Plot the bar\n",
        "        ax.bar(label, gap, bottom=bottom, color=color)\n",
        "\n",
        "        # Text styling for annotation\n",
        "        text_color = 'white' if i == iteration and i > 3 else 'black'\n",
        "        ax.text(label, bottom + gap / 2, format_label(gap), ha='center', va='center', color=text_color)\n",
        "\n",
        "    # Remove the upper and right spines\n",
        "    ax.spines['top'].set_visible(False)\n",
        "    ax.spines['right'].set_visible(False)\n",
        "\n",
        "    # Remove the y-axis\n",
        "    ax.spines['left'].set_visible(False)\n",
        "    ax.get_yaxis().set_visible(False)\n",
        "\n",
        "    # Chart title\n",
        "    titles = ['', 'com Gap em Marketing', 'com Gap em Pre-Vendas', 'com Gap em Vendas',\n",
        "              'acima da meta em MKT', 'acima da meta em Pre-Vendas', 'acima da meta em Vendas']\n",
        "    ax.set_title('Funis de Marketing - Linhas ' + titles[iteration])\n",
        "    folder = f\"graficos_relatorio\"\n",
        "    os.makedirs(folder, exist_ok = True)\n",
        "    fig.savefig(folder + f\"/waterfall_chart_{iteration}_{today}_{operacao}.png\", dpi=500, bbox_inches=\"tight\")\n",
        "\n",
        "    # Show the chart\n",
        "    plt.show()\n"
      ],
      "metadata": {
        "id": "k6x1rRl4lu8k"
      },
      "execution_count": null,
      "outputs": []
    },
    {
      "cell_type": "code",
      "source": [],
      "metadata": {
        "id": "8yMteE-q2inr"
      },
      "execution_count": null,
      "outputs": []
    },
    {
      "cell_type": "code",
      "source": [
        "for i in range(1,7):\n",
        "  waterfall_chart(i)"
      ],
      "metadata": {
        "id": "nbWKCioaGjJN"
      },
      "execution_count": null,
      "outputs": []
    },
    {
      "cell_type": "markdown",
      "source": [
        "## Gráficos Paretos"
      ],
      "metadata": {
        "id": "aov3i13EUy8_"
      }
    },
    {
      "cell_type": "code",
      "source": [
        "gap_mkt = df[['Linha MKT', 'Gap MKT', 'Pareto_MKT']]\n",
        "gap_pv = df[['Linha PV', 'Gap Pre-Vendas', 'Pareto_PV']]\n",
        "gap_vendas = df[['Linha Vendas', 'Gap Vendas', 'Pareto_Vendas']]\n",
        "acima_mkt = df[['Linha MKT_up', 'MKT acima', 'Pareto_MKT_up']]\n",
        "acima_pv = df[['Linha PV_up', 'Pre-Vendas acima', 'Pareto_PV_up']]\n",
        "acima_vendas = df[['Linha Vendas_up', 'Vendas acima', 'Pareto_Vendas_up']]"
      ],
      "metadata": {
        "id": "u8DLNk4QUzxR"
      },
      "execution_count": null,
      "outputs": []
    },
    {
      "cell_type": "code",
      "source": [
        "# prompt: make a list with each item from the cell above\n",
        "graph_list = [gap_mkt, gap_pv, gap_vendas, acima_mkt, acima_pv, acima_vendas]"
      ],
      "metadata": {
        "id": "UtdVY8BWVEJB"
      },
      "execution_count": null,
      "outputs": []
    },
    {
      "cell_type": "code",
      "source": [
        "def pareto_magic(df):\n",
        "    pareto_col = [col for col in df.columns if 'Pareto' in col][0]\n",
        "    linha_col = [col for col in df.columns if 'Linha' in col][0]\n",
        "    gap_col = [col for col in df.columns if ('Pareto' not in col and 'Linha' not in col)][0]\n",
        "    remaining_gap = df[df[pareto_col] > 0.8][1:][gap_col].sum()\n",
        "\n",
        "    # Identificar até onde o corte será feito\n",
        "    for row, _ in df.iterrows():\n",
        "        if df.loc[row, pareto_col] > 0.8:\n",
        "            df_new = df.iloc[:row+1].copy()\n",
        "            break\n",
        "\n",
        "    # Garantir consistência do DataFrame\n",
        "    if remaining_gap != 0:\n",
        "        last_row_data = {linha_col: 'Outras linhas', gap_col: remaining_gap, pareto_col: 1}\n",
        "        df_new = pd.concat([df_new, pd.DataFrame([last_row_data])], ignore_index=True)\n",
        "\n",
        "    # Garantir que os tipos de colunas sejam consistentes\n",
        "    df_new[gap_col] = df_new[gap_col].astype(float)\n",
        "    df_new[pareto_col] = df_new[pareto_col].astype(float)\n",
        "\n",
        "    return df_new"
      ],
      "metadata": {
        "id": "dx3wsTVmWVqX"
      },
      "execution_count": 5,
      "outputs": []
    },
    {
      "cell_type": "code",
      "source": [
        "graph_list_processed = [pareto_magic(df) for df in graph_list]"
      ],
      "metadata": {
        "id": "YxwRCLgrZEzU"
      },
      "execution_count": null,
      "outputs": []
    },
    {
      "cell_type": "code",
      "source": [
        "import matplotlib.pyplot as plt\n",
        "\n",
        "# Assuming graph_list_processed[0] is defined as in the previous code\n",
        "\n",
        "def pareto_graph(index, df):\n",
        "  # Extract data for the plot\n",
        "  pareto_col = [col for col in df.columns if 'Pareto' in col][0]\n",
        "  linha_col = [col for col in df.columns if 'Linha' in col][0]\n",
        "  gap_col = [col for col in df.columns if ('Pareto' not in col and 'Linha' not in col)][0]\n",
        "  lines = df[linha_col]\n",
        "  gap_mkt_values = abs(df[gap_col])\n",
        "  pareto_mkt_values = df[pareto_col]\n",
        "\n",
        "  # Create the combined line and bar plot\n",
        "  fig, ax1 = plt.subplots(figsize=(14, 8))\n",
        "\n",
        "  # Bar plot for Gap MKT\n",
        "  bars = ax1.bar(lines, gap_mkt_values, color='midnightblue')\n",
        "\n",
        "  # Set y-axis limits\n",
        "  ax1.set_ylim([0, 2 * max(gap_mkt_values)])\n",
        "\n",
        "  # Add data labels inside the bars\n",
        "  for bar, value in zip(bars, gap_mkt_values):\n",
        "      ax1.text(bar.get_x() + bar.get_width() / 2, bar.get_height() / 2,\n",
        "              format_label(value), ha='center', va='center', color='white', fontsize=12, fontweight = 'bold')\n",
        "\n",
        "  # Remove upper and right spines\n",
        "  ax1.spines['top'].set_visible(False)\n",
        "  ax1.spines['right'].set_visible(False)\n",
        "  ax1.spines['left'].set_visible(False)\n",
        "\n",
        "  # Create a second y-axis for the line plot\n",
        "  ax2 = ax1.twinx()\n",
        "\n",
        "  # Line plot for Pareto_MKT\n",
        "  line = ax2.plot(lines, pareto_mkt_values, color='lightcoral', marker='o')\n",
        "\n",
        "  # Add data labels as percentages to the top of the line\n",
        "  for x, y in zip(lines, pareto_mkt_values):\n",
        "      ax2.text(x, y + 0.05, f'{y*100:.0f}%', ha='center', va='bottom', color='black', fontsize=10,\n",
        "             bbox=dict(facecolor='lightgrey', edgecolor='none', boxstyle='round', alpha=0.6))\n",
        "\n",
        "  # Set y-axis limits for the line\n",
        "  ax2.set_ylim([-0.4, 1.2])\n",
        "\n",
        "  # Remove y-axis labels\n",
        "  ax1.get_yaxis().set_visible(False)\n",
        "  ax2.get_yaxis().set_visible(False)\n",
        "\n",
        "  ax2.spines['top'].set_visible(False)\n",
        "  ax2.spines['right'].set_visible(False)\n",
        "  ax2.spines['left'].set_visible(False)\n",
        "\n",
        "  # Add title\n",
        "  titulos = ['no Gap de Marketing', 'no Gap de Pre-Vendas', 'no Gap de Vendas',\n",
        "            'acima da meta em MKT', 'acima da meta em Pre-Vendas', 'acima da meta em Vendas']\n",
        "  plt.title('Representatividade de cada linha ' + titulos[i])\n",
        "\n",
        "  # Show the plot\n",
        "  folder = f\"graficos_relatorio\"\n",
        "  os.makedirs(folder, exist_ok = True)\n",
        "  fig.savefig(folder + f\"/pareto_chart_{index+1}_{today}_{operacao}.png\", dpi=500, bbox_inches=\"tight\")\n",
        "  plt.show()\n"
      ],
      "metadata": {
        "id": "hJaUKZRRbzrQ"
      },
      "execution_count": null,
      "outputs": []
    },
    {
      "cell_type": "code",
      "source": [
        "for i, df in enumerate(graph_list_processed):\n",
        "  pareto_graph(i, df)"
      ],
      "metadata": {
        "id": "DL66gK7Dcoqg"
      },
      "execution_count": null,
      "outputs": []
    },
    {
      "cell_type": "code",
      "source": [
        "gaps_resumo = [gaps[0], gaps[1]+gaps[4], gaps[2]+gaps[5], gaps[3]+gaps[6], gaps[7]]\n",
        "labels = ['Potencial de Receita', 'Efeito MKT', 'Efeito Pre-Vendas', 'Efeito Vendas', 'Receita Realizada']"
      ],
      "metadata": {
        "id": "RMTb1B8J9nXT"
      },
      "execution_count": null,
      "outputs": []
    },
    {
      "cell_type": "code",
      "source": [
        "def final_waterfall_chart(gaps):\n",
        "    # Create the waterfall chart\n",
        "    fig, ax = plt.subplots(figsize=(14, 8))\n",
        "\n",
        "    for i, (label, gap) in enumerate(zip(labels, gaps)):\n",
        "        # Default color rules\n",
        "        if i in [0, len(gaps) - 1]:\n",
        "            color = 'grey'\n",
        "        elif gaps[i] > 0:\n",
        "            color = 'skyblue'\n",
        "        else:\n",
        "            color = 'lightcoral'\n",
        "\n",
        "        cumulative_gaps = sum(gaps[:i+1])\n",
        "\n",
        "        # Bottom position for bars\n",
        "        bottom = 0 if i == len(gaps) - 1 else cumulative_gaps - gap\n",
        "\n",
        "        # Plot the bar\n",
        "        ax.bar(label, gap, bottom=bottom, color=color)\n",
        "\n",
        "        # Text styling for annotation\n",
        "        ax.text(label, bottom + gap / 2, format_label(gap), ha='center', va='center', color='black')\n",
        "\n",
        "    # Remove the upper and right spines\n",
        "    ax.spines['top'].set_visible(False)\n",
        "    ax.spines['right'].set_visible(False)\n",
        "\n",
        "    # Remove the y-axis\n",
        "    ax.spines['left'].set_visible(False)\n",
        "    ax.get_yaxis().set_visible(False)\n",
        "\n",
        "    # Chart title\n",
        "    ax.set_title('Potencial de Receita - Funis de Marketing')\n",
        "    folder = f\"graficos_relatorio\"\n",
        "    os.makedirs(folder, exist_ok = True)\n",
        "    fig.savefig(folder + f\"/final_waterfall_chart_{today}_{operacao}.png\", dpi=500, bbox_inches=\"tight\")\n",
        "\n",
        "    # Show the chart\n",
        "    plt.show()"
      ],
      "metadata": {
        "id": "tl4_ZEIj94Rf"
      },
      "execution_count": null,
      "outputs": []
    },
    {
      "cell_type": "code",
      "source": [
        "final_waterfall_chart(gaps_resumo)"
      ],
      "metadata": {
        "id": "M01hHjKV-eeW"
      },
      "execution_count": null,
      "outputs": []
    },
    {
      "cell_type": "code",
      "source": [],
      "metadata": {
        "id": "FQ4VbEWLFYvH"
      },
      "execution_count": null,
      "outputs": []
    }
  ]
}